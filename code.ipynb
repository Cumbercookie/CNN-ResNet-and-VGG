{
  "nbformat": 4,
  "nbformat_minor": 0,
  "metadata": {
    "colab": {
      "provenance": [],
      "authorship_tag": "ABX9TyMm5RGjUEn6pAfzHF3+IRS3",
      "include_colab_link": true
    },
    "kernelspec": {
      "name": "python3",
      "display_name": "Python 3"
    },
    "language_info": {
      "name": "python"
    }
  },
  "cells": [
    {
      "cell_type": "markdown",
      "metadata": {
        "id": "view-in-github",
        "colab_type": "text"
      },
      "source": [
        "<a href=\"https://colab.research.google.com/github/Cumbercookie/CNN-ResNet-and-VGG/blob/main/Untitled5.ipynb\" target=\"_parent\"><img src=\"https://colab.research.google.com/assets/colab-badge.svg\" alt=\"Open In Colab\"/></a>"
      ]
    },
    {
      "cell_type": "code",
      "execution_count": 14,
      "metadata": {
        "id": "7gdbA-FM57w-"
      },
      "outputs": [],
      "source": [
        "import pandas as pd\n",
        "import numpy as np\n",
        "from sklearn.model_selection import train_test_split\n",
        "from tensorflow.keras.models import Sequential\n",
        "from tensorflow.keras.layers import Conv2D, MaxPooling2D, Flatten, Dense\n",
        "from tensorflow.keras.applications import ResNet50, VGG16\n",
        "from tensorflow.keras import models"
      ]
    },
    {
      "cell_type": "code",
      "source": [
        "# Load data\n",
        "labels_df = pd.read_csv('/content/chineseMNIST.csv')\n",
        "\n",
        "# Data preprocessing\n",
        "X_data = labels_df.drop(columns=['label', 'character']).values.reshape(-1, 64, 64, 1).astype('float32') / 255.0\n",
        "y_data = labels_df['label'].values\n",
        "\n",
        "# Filter out invalid labels\n",
        "valid_labels = set(range(15))  # Assuming there are 15 classes\n",
        "valid_indices = labels_df['label'].isin(valid_labels)\n",
        "X_data_filtered = X_data[valid_indices]\n",
        "y_data_filtered = y_data[valid_indices]\n",
        "\n",
        "# Split data into training and validation sets\n",
        "X_train, X_val, y_train, y_val = train_test_split(X_data_filtered, y_data_filtered, test_size=0.2, random_state=42)\n",
        "\n",
        "# Define input shape and number of classes\n",
        "input_shape = X_train.shape[1:]\n",
        "num_classes = len(valid_labels)"
      ],
      "metadata": {
        "id": "U7BrkeCl7kS6"
      },
      "execution_count": 2,
      "outputs": []
    },
    {
      "cell_type": "code",
      "source": [
        "# Create CNN model\n",
        "def create_cnn_model(input_shape, num_classes):\n",
        "    model = Sequential([\n",
        "        Conv2D(32, (3, 3), activation='relu', input_shape=input_shape),\n",
        "        MaxPooling2D((2, 2)),\n",
        "        Conv2D(64, (3, 3), activation='relu'),\n",
        "        MaxPooling2D((2, 2)),\n",
        "        Conv2D(64, (3, 3), activation='relu'),\n",
        "        Flatten(),\n",
        "        Dense(64, activation='relu'),\n",
        "        Dense(num_classes, activation='softmax')\n",
        "    ])\n",
        "    return model"
      ],
      "metadata": {
        "id": "nAbWmA6V6Y0M"
      },
      "execution_count": 3,
      "outputs": []
    },
    {
      "cell_type": "code",
      "source": [
        "from tensorflow.keras.layers import Input, Concatenate, GlobalAveragePooling2D\n",
        "\n",
        "def create_resnet_model(input_shape, num_classes):\n",
        "    # Define input with three channels\n",
        "    input_tensor = Input(shape=input_shape)\n",
        "    input_rgb = Concatenate()([input_tensor, input_tensor, input_tensor])  # Convert grayscale to RGB\n",
        "\n",
        "    # Load ResNet50 model with weights\n",
        "    resnet_base = ResNet50(weights='imagenet', include_top=False, input_tensor=input_rgb)\n",
        "\n",
        "    # Freeze layers in ResNet model\n",
        "    for layer in resnet_base.layers:\n",
        "        layer.trainable = False\n",
        "\n",
        "    # Add custom layers on top of ResNet base\n",
        "    x = GlobalAveragePooling2D()(resnet_base.output)\n",
        "    x = Dense(256, activation='relu')(x)\n",
        "    output = Dense(num_classes, activation='softmax')(x)\n",
        "\n",
        "    # Create model\n",
        "    model = models.Model(inputs=input_tensor, outputs=output)\n",
        "\n",
        "    return model"
      ],
      "metadata": {
        "id": "VTtKDyF0Ds0G"
      },
      "execution_count": 7,
      "outputs": []
    },
    {
      "cell_type": "code",
      "source": [
        "# Print input shape for verification\n",
        "print(\"Input shape:\", input_shape)"
      ],
      "metadata": {
        "colab": {
          "base_uri": "https://localhost:8080/"
        },
        "id": "mgk4Gkq-Vzt1",
        "outputId": "5fd1292d-47ee-4bfc-d553-722604c6cd0b"
      },
      "execution_count": 27,
      "outputs": [
        {
          "output_type": "stream",
          "name": "stdout",
          "text": [
            "Input shape: (64, 64, 3)\n"
          ]
        }
      ]
    },
    {
      "cell_type": "code",
      "source": [
        "# Convert grayscale images to RGB\n",
        "X_train_rgb = np.repeat(X_train, 3, axis=-1)\n",
        "X_val_rgb = np.repeat(X_val, 3, axis=-1)\n",
        "\n",
        "# Adjust input shape for VGG model\n",
        "input_shape = X_train_rgb.shape[1:]\n",
        "\n",
        "# Create VGG model\n",
        "def create_vgg_model(input_shape, num_classes):\n",
        "    vgg_base = VGG16(weights='imagenet', include_top=False, input_shape=input_shape)\n",
        "    model = Sequential([\n",
        "        vgg_base,\n",
        "        Flatten(),\n",
        "        Dense(256, activation='relu'),\n",
        "        Dense(num_classes, activation='softmax')\n",
        "    ])\n",
        "    return model"
      ],
      "metadata": {
        "id": "L0VxmCNiD2O_"
      },
      "execution_count": 31,
      "outputs": []
    },
    {
      "cell_type": "code",
      "source": [
        "# Train models\n",
        "def train_model(model, X_train, y_train, X_val, y_val, batch_size=32, epochs=5):\n",
        "    model.compile(optimizer='adam', loss='sparse_categorical_crossentropy', metrics=['accuracy'])\n",
        "    history = model.fit(X_train, y_train, batch_size=batch_size, epochs=epochs, validation_data=(X_val, y_val))\n",
        "    return history\n"
      ],
      "metadata": {
        "id": "7plR6SMND5Bz"
      },
      "execution_count": 32,
      "outputs": []
    },
    {
      "cell_type": "code",
      "source": [
        "# Train CNN model\n",
        "cnn_model = create_cnn_model(input_shape, num_classes)\n",
        "cnn_history = train_model(cnn_model, X_train, y_train, X_val, y_val)\n"
      ],
      "metadata": {
        "colab": {
          "base_uri": "https://localhost:8080/"
        },
        "id": "XNbyVSGRLuir",
        "outputId": "c62e1838-7fce-41c7-e6bd-29cd3e66fee3"
      },
      "execution_count": 12,
      "outputs": [
        {
          "output_type": "stream",
          "name": "stdout",
          "text": [
            "Epoch 1/5\n",
            "275/275 [==============================] - 51s 182ms/step - loss: 0.7606 - accuracy: 0.7460 - val_loss: 0.2050 - val_accuracy: 0.9332\n",
            "Epoch 2/5\n",
            "275/275 [==============================] - 48s 176ms/step - loss: 0.1527 - accuracy: 0.9515 - val_loss: 0.1864 - val_accuracy: 0.9382\n",
            "Epoch 3/5\n",
            "275/275 [==============================] - 52s 190ms/step - loss: 0.0973 - accuracy: 0.9683 - val_loss: 0.1179 - val_accuracy: 0.9618\n",
            "Epoch 4/5\n",
            "275/275 [==============================] - 51s 185ms/step - loss: 0.0567 - accuracy: 0.9817 - val_loss: 0.1294 - val_accuracy: 0.9591\n",
            "Epoch 5/5\n",
            "275/275 [==============================] - 51s 187ms/step - loss: 0.0428 - accuracy: 0.9860 - val_loss: 0.0497 - val_accuracy: 0.9832\n"
          ]
        }
      ]
    },
    {
      "cell_type": "code",
      "source": [
        "# Train ResNet model\n",
        "resnet_model = create_resnet_model(input_shape, num_classes)\n",
        "resnet_history = train_model(resnet_model, X_train, y_train, X_val, y_val)\n"
      ],
      "metadata": {
        "colab": {
          "base_uri": "https://localhost:8080/"
        },
        "id": "NFeKTKtpL6Rl",
        "outputId": "5e843f45-108d-4a90-b7af-33a3c69c8390"
      },
      "execution_count": 15,
      "outputs": [
        {
          "output_type": "stream",
          "name": "stdout",
          "text": [
            "Epoch 1/5\n",
            "275/275 [==============================] - 230s 825ms/step - loss: 2.1979 - accuracy: 0.2361 - val_loss: 1.9298 - val_accuracy: 0.3782\n",
            "Epoch 2/5\n",
            "275/275 [==============================] - 165s 599ms/step - loss: 1.7898 - accuracy: 0.4189 - val_loss: 1.6543 - val_accuracy: 0.4455\n",
            "Epoch 3/5\n",
            "275/275 [==============================] - 175s 636ms/step - loss: 1.5748 - accuracy: 0.4798 - val_loss: 1.4431 - val_accuracy: 0.5364\n",
            "Epoch 4/5\n",
            "275/275 [==============================] - 172s 627ms/step - loss: 1.4310 - accuracy: 0.5283 - val_loss: 1.3622 - val_accuracy: 0.5532\n",
            "Epoch 5/5\n",
            "275/275 [==============================] - 173s 631ms/step - loss: 1.3155 - accuracy: 0.5748 - val_loss: 1.2486 - val_accuracy: 0.6041\n"
          ]
        }
      ]
    },
    {
      "cell_type": "code",
      "source": [
        "# Train VGG model\n",
        "vgg_model = create_vgg_model(input_shape, num_classes)\n",
        "vgg_history = train_model(vgg_model, X_train_rgb, y_train, X_val_rgb, y_val)"
      ],
      "metadata": {
        "colab": {
          "base_uri": "https://localhost:8080/"
        },
        "id": "-34RpjwwL8UA",
        "outputId": "6d940ebd-104a-4c6c-b26d-fa793ec2b410"
      },
      "execution_count": 34,
      "outputs": [
        {
          "output_type": "stream",
          "name": "stdout",
          "text": [
            "Epoch 1/5\n",
            "275/275 [==============================] - 1787s 6s/step - loss: 1.4438 - accuracy: 0.4664 - val_loss: 0.2463 - val_accuracy: 0.9159\n",
            "Epoch 2/5\n",
            "275/275 [==============================] - 1778s 6s/step - loss: 0.2986 - accuracy: 0.9075 - val_loss: 0.1087 - val_accuracy: 0.9655\n",
            "Epoch 3/5\n",
            "275/275 [==============================] - 1777s 6s/step - loss: 0.1379 - accuracy: 0.9606 - val_loss: 0.0806 - val_accuracy: 0.9764\n",
            "Epoch 4/5\n",
            "275/275 [==============================] - 1775s 6s/step - loss: 0.0906 - accuracy: 0.9735 - val_loss: 0.0739 - val_accuracy: 0.9786\n",
            "Epoch 5/5\n",
            "275/275 [==============================] - 1767s 6s/step - loss: 0.0777 - accuracy: 0.9806 - val_loss: 0.0439 - val_accuracy: 0.9855\n"
          ]
        }
      ]
    },
    {
      "cell_type": "code",
      "source": [
        "from sklearn.metrics import accuracy_score, f1_score, confusion_matrix\n",
        "\n",
        "# Evaluate CNN model\n",
        "cnn_y_pred = cnn_model.predict(X_val)\n",
        "cnn_accuracy = accuracy_score(y_val, cnn_y_pred.argmax(axis=1))\n",
        "cnn_f1 = f1_score(y_val, cnn_y_pred.argmax(axis=1), average='weighted')\n",
        "\n",
        "# Evaluate ResNet model\n",
        "resnet_y_pred = resnet_model.predict(X_val)\n",
        "resnet_accuracy = accuracy_score(y_val, resnet_y_pred.argmax(axis=1))\n",
        "resnet_f1 = f1_score(y_val, resnet_y_pred.argmax(axis=1), average='weighted')\n",
        "\n",
        "# Evaluate VGG model\n",
        "vgg_y_pred = vgg_model.predict(X_val_rgb)\n",
        "vgg_accuracy = accuracy_score(y_val, vgg_y_pred.argmax(axis=1))\n",
        "vgg_f1 = f1_score(y_val, vgg_y_pred.argmax(axis=1), average='weighted')\n",
        "\n",
        "# Print the evaluation results\n",
        "print(\"CNN Accuracy:\", cnn_accuracy)\n",
        "print(\"CNN F1 Score:\", cnn_f1)\n",
        "print(\"ResNet Accuracy:\", resnet_accuracy)\n",
        "print(\"ResNet F1 Score:\", resnet_f1)\n",
        "print(\"VGG Accuracy:\", vgg_accuracy)\n",
        "print(\"VGG F1 Score:\", vgg_f1)\n",
        "\n",
        "# Calculate and print confusion matrix\n",
        "cnn_conf_matrix = confusion_matrix(y_val, cnn_y_pred.argmax(axis=1))\n",
        "resnet_conf_matrix = confusion_matrix(y_val, resnet_y_pred.argmax(axis=1))\n",
        "vgg_conf_matrix = confusion_matrix(y_val, vgg_y_pred.argmax(axis=1))\n",
        "print(\"CNN Confusion Matrix:\")\n",
        "print(cnn_conf_matrix)\n",
        "print(\"ResNet Confusion Matrix:\")\n",
        "print(resnet_conf_matrix)\n",
        "print(\"VGG Confusion Matrix:\")\n",
        "print(vgg_conf_matrix)\n"
      ],
      "metadata": {
        "colab": {
          "base_uri": "https://localhost:8080/"
        },
        "id": "YrBhzEkw6dQV",
        "outputId": "aed1ffae-ee55-4bb4-f049-4586bc604f93"
      },
      "execution_count": 36,
      "outputs": [
        {
          "output_type": "stream",
          "name": "stdout",
          "text": [
            "69/69 [==============================] - 4s 61ms/step\n",
            "69/69 [==============================] - 35s 478ms/step\n",
            "69/69 [==============================] - 106s 2s/step\n",
            "CNN Accuracy: 0.9831818181818182\n",
            "CNN F1 Score: 0.983127175311417\n",
            "ResNet Accuracy: 0.6040909090909091\n",
            "ResNet F1 Score: 0.5982500357019189\n",
            "VGG Accuracy: 0.9854545454545455\n",
            "VGG F1 Score: 0.9854192271588115\n",
            "CNN Confusion Matrix:\n",
            "[[184   0   0   0   0   0   0   0   0   0   0]\n",
            " [  0 213   1   0   0   0   0   0   0   0   0]\n",
            " [  0   5 189   3   0   0   0   0   0   0   0]\n",
            " [  0   1   3 199   0   1   0   0   0   0   0]\n",
            " [  1   0   0   0 206   0   0   0   0   3   0]\n",
            " [  0   0   0   1   0 176   0   1   0   0   0]\n",
            " [  0   1   0   0   0   0 196   0   0   1   0]\n",
            " [  0   0   0   1   1   4   1 181   0   5   1]\n",
            " [  0   0   0   0   0   0   0   0 213   0   0]\n",
            " [  0   0   0   0   0   0   1   0   0 204   1]\n",
            " [  0   0   0   0   0   0   0   0   0   0 202]]\n",
            "ResNet Confusion Matrix:\n",
            "[[158   0   0   0   8   2   2   1   1   7   5]\n",
            " [  0 150  46   3   2   0   1   9   0   0   3]\n",
            " [  0  19 120  14   4  28   0   6   0   2   4]\n",
            " [  1   5  44  75   1  56   6   2   0   5   9]\n",
            " [  8   3   0   1 109  40   4   6   2  14  23]\n",
            " [  2   2  10   3   3 129   2   1   0   9  17]\n",
            " [ 21   4   0  11  20   6  50  19  12  44  11]\n",
            " [  6   3   4   5   3  14  14 101   2  33   9]\n",
            " [  0   0   0   0   6   0   1   0 200   4   2]\n",
            " [  6   0   1   3  19  25   7  18   0 118   9]\n",
            " [  1   9  22   2  16  27   1   5   0   0 119]]\n",
            "VGG Confusion Matrix:\n",
            "[[184   0   0   0   0   0   0   0   0   0   0]\n",
            " [  0 214   0   0   0   0   0   0   0   0   0]\n",
            " [  1   1 195   0   0   0   0   0   0   0   0]\n",
            " [  0   0   7 197   0   0   0   0   0   0   0]\n",
            " [  1   0   0   0 208   0   0   0   1   0   0]\n",
            " [  0   0   0   1   0 177   0   0   0   0   0]\n",
            " [  0   0   1   0   0   0 197   0   0   0   0]\n",
            " [  0   0   0   0   0   0   0 194   0   0   0]\n",
            " [  0   0   0   0   0   0   2   0 210   1   0]\n",
            " [  0   0   0   0   2   0   1  12   0 191   0]\n",
            " [  0   0   0   1   0   0   0   0   0   0 201]]\n"
          ]
        }
      ]
    }
  ]
}
